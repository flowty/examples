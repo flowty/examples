{
 "cells": [
  {
   "cell_type": "markdown",
   "metadata": {},
   "source": [
    "# 0-1 Knapsack Problem\n",
    "\n",
    "Pick the items that gives the most value and fits in the knapsack. This may be formulated as a mixed integer programme like\n",
    "\n",
    "$$\n",
    "\\begin{aligned}\n",
    "\\max{ } & \\sum_{i \\in I} p_i x_i \\\\\n",
    "\\text{s.t. } & \\sum_{i \\in I} w_i x_i \\leq Q \\\\\n",
    "& x_i \\in \\mathbb{B} && i \\in I\n",
    "\\end{aligned}\n",
    "$$\n",
    "\n",
    "It can also be formulated as a network problem on a graph with $2|I| + 1$ vertices and $3[I|$ edges in a directed graph like\n",
    "\n",
    "[![](https://mermaid.ink/img/eyJjb2RlIjoiZ3JhcGggTFJcblx0MSAtLT4gMlxuICAgIDIgLS0-IDNcblx0MyAtLT4gblxuXG4gICAgMSAtLi0-IG5vdDFcbiAgICAyIC0uLT4gbm90MlxuXHQzIC0uLT4gbm90M1xuXG4gICAgbm90MSAtLi0-IDJcbiAgICBub3QyIC0uLT4gM1xuXHRub3QzIC0uLT4gbiIsIm1lcm1haWQiOnsidGhlbWUiOiJmb3Jlc3QifX0)](https://mermaid-js.github.io/mermaid-live-editor/#/edit/eyJjb2RlIjoiZ3JhcGggTFJcblx0MSAtLT4gMlxuICAgIDIgLS0-IDNcblx0MyAtLT4gblxuXG4gICAgMSAtLi0-IG5vdDFcbiAgICAyIC0uLT4gbm90MlxuXHQzIC0uLT4gbm90M1xuXG4gICAgbm90MSAtLi0-IDJcbiAgICBub3QyIC0uLT4gM1xuXHRub3QzIC0uLT4gbiIsIm1lcm1haWQiOnsidGhlbWUiOiJmb3Jlc3QifX0)\n",
    "\n",
    "where traversal of a regular edge $(i,j)$ indicates that item $i$ is put in the knapsack and a dotted edge indicates not selecting anything. The regular edges are weighted with the item weights and the dotted edges have 0 weight. The total weight of the path from $1$ to $n$ must be less than the knapsack capacity $Q$. The item profit is associated to the edges in a similar way.\n",
    "\n",
    "This corresponds to the model\n",
    "\n",
    "$$\n",
    "\\begin{aligned}\n",
    "\\max{ } & \\sum_{(i,j) \\in E} p_i x_{ij} \\\\\n",
    "\\text{s.t. } & x_{ij} = \\sum_{p \\in P} \\Big ( \\sum_{ s \\in p: s = (i,j)} \\mathbf{1} \\Big ) \\lambda_p & & (i,j) \\in E \\\\\n",
    "& 1 \\leq \\sum_{p \\in P} \\lambda_p \\leq 1 \\\\\n",
    "& \\lambda_p \\in \\mathbb{B} && p \\in P \\\\\n",
    "& x_{i,j} \\in \\mathbb{B} && (i,j) \\in E\n",
    "\\end{aligned}\n",
    "$$\n",
    "\n",
    "where $p \\in P$ are paths in a graph $G(V,E)$ subject to the capacity constraint modeled as a disposable resource with edge consumption $w_i$ for regular edge $(i,j)$ otherwise 0 and bounds $[0,Q]$ for all $i \\in V$.\n",
    "\n",
    "In $\\lambda$ terms this reduces to\n",
    "\n",
    "$$\n",
    "\\begin{aligned}\n",
    "\\max{ } & \\sum_{p \\in P} \\sum_{(i,j) \\in E} p_i \\Big ( \\sum_{ s \\in p: s = (i,j)} \\mathbf{1} \\Big ) \\lambda_p \\\\\n",
    "\\text{s.t. } & 1 \\leq \\sum_{p \\in P} \\lambda_p \\leq 1 \\\\\n",
    "& \\lambda_p \\in \\mathbb{B} && p \\in P \n",
    "\\end{aligned}\n",
    "$$\n",
    "\n",
    "Models like this on one graph with no explicit edge constraints can be solved directly with the dynamic programming algorithm.\n",
    "\n",
    "It can be modeled as"
   ]
  },
  {
   "cell_type": "code",
   "execution_count": 2,
   "metadata": {},
   "outputs": [],
   "source": [
    "# Data\n",
    "\n",
    "from flowty import (\n",
    "    Model,\n",
    "    xsum,\n",
    "    CallbackModel,\n",
    "    OptimizationStatus,\n",
    "    Where,\n",
    ")\n",
    "\n",
    "p = [10, 13, 18, 31, 7, 15]\n",
    "w = [11, 15, 20, 35, 10, 33]\n",
    "c = 47\n",
    "\n",
    "# creating a \n",
    "es = [\n",
    "    (0, 1),\n",
    "    (1, 2),\n",
    "    (2, 3),\n",
    "    (3, 4),\n",
    "    (4, 5),\n",
    "    (5, 6),\n",
    "    (0, 7),\n",
    "    (1, 8),\n",
    "    (2, 9),\n",
    "    (3, 10),\n",
    "    (4, 11),\n",
    "    (5, 12),\n",
    "    (7, 1),\n",
    "    (8, 2),\n",
    "    (9, 3),\n",
    "    (10, 4),\n",
    "    (11, 5),\n",
    "    (12, 6),\n",
    "]\n",
    "ps = [-x for x in p] + [0] * len(w) * 2\n",
    "ws = w + [0] * len(w) * 2"
   ]
  },
  {
   "cell_type": "code",
   "execution_count": 5,
   "metadata": {},
   "outputs": [
    {
     "name": "stdout",
     "output_type": "stream",
     "text": [
      "ObjectiveValue -41.0\n"
     ]
    }
   ],
   "source": [
    "# 0-1 Knapsack\n",
    "\n",
    "m = Model()\n",
    "m.setParam(\"Algorithm\", \"Dp\")\n",
    "\n",
    "g = m.addGraph(obj=ps, edges=es, source=0, sink=6, L=1, U=1, type=\"B\")\n",
    "\n",
    "m.addResourceDisposable(\n",
    "    graph=g, consumptionType=\"E\", weight=ws, boundsType=\"V\", lb=0, ub=c\n",
    ")\n",
    "\n",
    "status = m.optimize()\n",
    "\n",
    "print(f\"ObjectiveValue {m.objectiveValue}\")"
   ]
  },
  {
   "cell_type": "code",
   "execution_count": 7,
   "metadata": {},
   "outputs": [
    {
     "data": {
      "image/png": "[encoded data removed]",
      "text/plain": [
       "<Figure size 1440x720 with 1 Axes>"
      ]
     },
     "metadata": {},
     "output_type": "display_data"
    }
   ],
   "source": [
    "# Display\n",
    "\n",
    "# get the variables\n",
    "xs = m.vars\n",
    "\n",
    "# for x in xs:\n",
    "#    if x.x > 0:\n",
    "#        print(f\"{x.name} id:{x.idx} = {x.x}\")\n",
    "\n",
    "# display solution\n",
    "import math\n",
    "\n",
    "import networkx\n",
    "import matplotlib\n",
    "import matplotlib.pyplot as plt\n",
    "\n",
    "if status == OptimizationStatus.Optimal or status == OptimizationStatus.Feasible:\n",
    "    plt.figure(figsize=(20,10))\n",
    "    \n",
    "    edges = [x.edge for x in g.vars if not math.isclose(x.x, 0, abs_tol=0.001)]\n",
    "    g = networkx.DiGraph()\n",
    "    g.add_edges_from(edges)\n",
    "    pos = networkx.spring_layout(g)\n",
    "    networkx.draw_networkx_nodes(g, pos, nodelist=g.nodes)\n",
    "    labels = {i: i for i in g.nodes}\n",
    "    networkx.draw_networkx_labels(g, pos, labels=labels)\n",
    "\n",
    "\n",
    "    one_edges = [e for e in g.edges if e[0] < len(w) and e[1] < len(w)]\n",
    "    networkx.draw_networkx_edges(g, pos, edgelist=one_edges, edge_color='b')\n",
    "    \n",
    "    zero_edges = [e for e in g.edges if e not in one_edges]\n",
    "    networkx.draw_networkx_edges(g, pos, edgelist=zero_edges, edge_color='r')\n",
    "    \n",
    "    plt.show()\n"
   ]
  }
 ],
 "metadata": {
  "kernelspec": {
   "display_name": "Python 3",
   "language": "python",
   "name": "python3"
  },
  "language_info": {
   "codemirror_mode": {
    "name": "ipython",
    "version": 3
   },
   "file_extension": ".py",
   "mimetype": "text/x-python",
   "name": "python",
   "nbconvert_exporter": "python",
   "pygments_lexer": "ipython3",
   "version": "3.7.2"
  }
 },
 "nbformat": 4,
 "nbformat_minor": 4
}
